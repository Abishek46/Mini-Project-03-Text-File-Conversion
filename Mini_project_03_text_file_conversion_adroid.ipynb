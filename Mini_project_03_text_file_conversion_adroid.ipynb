{
  "nbformat": 4,
  "nbformat_minor": 0,
  "metadata": {
    "colab": {
      "provenance": [],
      "authorship_tag": "ABX9TyPfuoK4ugQbzq4ly/1f52Ai",
      "include_colab_link": true
    },
    "kernelspec": {
      "name": "python3",
      "display_name": "Python 3"
    },
    "language_info": {
      "name": "python"
    }
  },
  "cells": [
    {
      "cell_type": "markdown",
      "metadata": {
        "id": "view-in-github",
        "colab_type": "text"
      },
      "source": [
        "<a href=\"https://colab.research.google.com/github/Abishek46/Mini-Project-03-Text-File-Conversion/blob/main/Mini_project_03_text_file_conversion_adroid.ipynb\" target=\"_parent\"><img src=\"https://colab.research.google.com/assets/colab-badge.svg\" alt=\"Open In Colab\"/></a>"
      ]
    },
    {
      "cell_type": "markdown",
      "source": [
        "Explore \"Mini Project - Text File Conversion.pdf for full description"
      ],
      "metadata": {
        "id": "3YiJSOxzsR4n"
      }
    },
    {
      "cell_type": "code",
      "execution_count": 2,
      "metadata": {
        "colab": {
          "base_uri": "https://localhost:8080/"
        },
        "id": "Yaf7TMH8GjEg",
        "outputId": "898b811c-ccd4-4426-8a00-89f087a63e0b"
      },
      "outputs": [
        {
          "output_type": "stream",
          "name": "stdout",
          "text": [
            "File Size\t|\t    C   \t   C++   \t   Java   \t   R   \t   Python   \n",
            "-----------------------------------------------------------------------\n",
            "200MB\t|\t2.231926679611206\t\t4.418701648712158\t\t1.1427948474884033\t\t1.343864917755127\t\t2.7879486083984375\n",
            "400MB\t|\t2.726083755493164\t\t2.779359817504883\t\t3.6965036392211914\t\t6.9584572315216064\t\t4.85309624671936\n",
            "600MB\t|\t5.520597219467163\t\t4.60695481300354\t\t4.973530054092407\t\t4.607622861862183\t\t5.099150896072388\n",
            "800MB\t|\t6.888450384140015\t\t6.716832160949707\t\t6.506657838821411\t\t6.2014687061309814\t\t9.76790165901184\n",
            "1000MB\t|\t16.256416082382202\t\t8.40148663520813\t\t8.4066641330719\t\t10.219976425170898\t\t7.889080762863159\n"
          ]
        }
      ],
      "source": [
        "\n",
        "import time as t\n",
        "import matplotlib.pyplot as plt\n",
        "\n",
        "file_sizes = [200, 400, 600, 800, 1000]  # Sizes of text files in MB\n",
        "\n",
        "def convert_to_uppercase(file_path):\n",
        "  fp = open(file_path,'r')\n",
        "  content = fp.read().upper()\n",
        "  fp.close()\n",
        "\n",
        "  fp = open(file_path,'w')\n",
        "  fp.write(content)\n",
        "  fp.close()\n",
        "\n",
        "def measure_execution_time(file_size):\n",
        "  file_path = f\"input_{file_size}MB.txt\"\n",
        "  fp = open(file_path,'w')\n",
        "  # Generate sample content of given file size\n",
        "  content = \"a\" * (file_size * 1024 * 1024)\n",
        "  fp.write(content)\n",
        "  fp.close()\n",
        "\n",
        "  start_time = t.time()\n",
        "  convert_to_uppercase(file_path)\n",
        "  end_time = t.time()\n",
        "  execution_time = end_time - start_time\n",
        "\n",
        "  return execution_time\n",
        "\n",
        "# Measure execution time for each file size\n",
        "languages = [\"    C   \", \"   C++   \", \"   Java   \", \"   R   \", \"   Python   \" ]\n",
        "\n",
        "print(\"File Size\\t|\\t\" + \"\\t\".join(languages))\n",
        "print(\"-----------------------------------------------------------------------\")\n",
        "\n",
        "for size in file_sizes:\n",
        "    execution_times = []\n",
        "    for lang in languages:\n",
        "        execution_time = measure_execution_time(size)\n",
        "        execution_times.append(execution_time)\n",
        "\n",
        "    execution_times_str = \"\\t\\t\".join([str(time) for time in execution_times])\n",
        "    print(f\"{size}MB\\t|\\t{execution_times_str}\")"
      ]
    }
  ]
}